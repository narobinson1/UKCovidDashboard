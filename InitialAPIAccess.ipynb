{
 "cells": [
  {
   "cell_type": "markdown",
   "metadata": {},
   "source": [
    "# Accessing PHE Covid Data"
   ]
  },
  {
   "cell_type": "markdown",
   "metadata": {},
   "source": [
    "3 key dates used in age distribution for England.\n",
    "\n",
    "1) 23 March 2020 \"Johnson announced the \"biggest lockdown of society in British history\" on national television. Social distancing was made legally mandatory and furlough scheme announced.\n",
    "\n",
    "2) 4 January 2021 \"Johnson announced new national lockdown measures for England due to the spread of another variant, later known as Alpha, that he described as “both frustrating and alarming\"\n",
    "\n",
    "3) 19 July 2021 \"England celebrated 'Freedom Day' as the vast majority of Covid-19 restrictions were finally lifted\"\n",
    "\n",
    "\n",
    "\n",
    "\n",
    "\n",
    "\n",
    "\n",
    "\n",
    "\n",
    "\n",
    "If extra time:\n",
    "\n",
    "On the 2nd April 2020, Health Secretary Matt Hancock pledged that 100,000 coronavirus tests would be carried out per day by the end of the month.\n",
    "\n",
    "Every 2nd of each month, compared the amount of new tests undertaken every week with a fixed amount of around 3,000,000. (assuming 100,000 is pledged by the end of each day).\n",
    "\n",
    "\n",
    "\n",
    "\n",
    "\n",
    "More time:\n",
    "\n",
    "UK surpassed Italy to become highest declared death toll\n",
    "\n",
    "More time:\n",
    "\n",
    "\n",
    "\n",
    "\n",
    "\n"
   ]
  },
  {
   "cell_type": "code",
   "execution_count": 83,
   "metadata": {},
   "outputs": [],
   "source": [
    "from uk_covid19 import Cov19API\n",
    "import json\n",
    "\n",
    "englandFilter = [\n",
    "    'areaType=nation',\n",
    "    'areaName=England'\n",
    "]\n",
    "\n",
    "structure = {\n",
    "    \"date\":\"date\",\n",
    "    \"males\": \"maleCases\",\n",
    "    \"females\": \"femaleCases\"\n",
    "}\n",
    "\n",
    "englandAPI = Cov19API(filters=englandFilter, structure=structure)\n",
    "\n",
    "\n",
    "englandData=englandAPI.get_json()\n",
    "\n",
    "england23March2020Data = []\n",
    "england04Jan2021Data = []\n",
    "england19Jul2021Data = []\n",
    "\n",
    "for i in range(1000):\n",
    "    if englandData['data'][i]['date'] == \"2020-03-23\":\n",
    "        england23March2020Data.append(englandData['data'][i])\n",
    "    elif englandData['data'][i]['date'] ==  \"2021-01-04\":\n",
    "        england04Jan2021Data.append(englandData['data'][i])\n",
    "    elif englandData['data'][i]['date'] == \"2021-07-19\":\n",
    "        england19Jul2021Data.append(englandData['data'][i])\n",
    "\n",
    "with open(\"england23March2020Data.json\", \"wt\") as OUTF:\n",
    "    json.dump(england23March2020Data, OUTF)\n",
    "with open(\"england04Jan2021Data.json\", \"wt\") as OUTF:\n",
    "    json.dump(england04Jan2021Data, OUTF)\n",
    "with open(\"england19Jul2021Data.json\", \"wt\") as OUTF:\n",
    "    json.dump(england19Jul2021Data, OUTF)    \n",
    "\n",
    "\n",
    "\n",
    "\n"
   ]
  }
 ],
 "metadata": {
  "kernelspec": {
   "display_name": "Python 3.9.6 64-bit",
   "language": "python",
   "name": "python3"
  },
  "language_info": {
   "codemirror_mode": {
    "name": "ipython",
    "version": 3
   },
   "file_extension": ".py",
   "mimetype": "text/x-python",
   "name": "python",
   "nbconvert_exporter": "python",
   "pygments_lexer": "ipython3",
   "version": "3.9.6"
  },
  "vscode": {
   "interpreter": {
    "hash": "31f2aee4e71d21fbe5cf8b01ff0e069b9275f58929596ceb00d14d90e3e16cd6"
   }
  }
 },
 "nbformat": 4,
 "nbformat_minor": 4
}
