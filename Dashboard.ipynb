{
 "cells": [
  {
   "cell_type": "markdown",
   "metadata": {},
   "source": [
    "# My COVID-19 Dashboard"
   ]
  },
  {
   "cell_type": "markdown",
   "metadata": {},
   "source": [
    "My COVID-19 Dashboard focuses on generating an interactive bar chart displaying the number of female and male cases associated with a distribution of age ranges. Extending this initial plot, I identified 3 key dates associated with various milestones of UK's COVID situation, and added interactivity in the bar chart to display the respective data associated with these key dates. The 3 dates I chose to be of importance are as follows:\n",
    "\n",
    "1) 23 March 2020 - Johnson announced the \"biggest lockdown of society in British history\" on national television. Social distancing was made legally mandatory and furlough scheme announced.\n",
    "\n",
    "2) 4 January 2021 - Johnson announced new national lockdown measures for England due to the spread of another variant, later known as Alpha, that he described as “both frustrating and alarming\n",
    "\n",
    "3) 19 July 2021 - England celebrated “Freedom Day” as the vast majority of Covid-19 restrictions were finally lifted\n",
    "\n"
   ]
  },
  {
   "cell_type": "code",
   "execution_count": 3,
   "metadata": {},
   "outputs": [],
   "source": [
    "from IPython.display import clear_output\n",
    "import ipywidgets as wdg\n",
    "import pandas as pd\n",
    "import numpy as np\n",
    "import matplotlib.pyplot as plt\n",
    "import json\n",
    "from uk_covid19 import Cov19API\n",
    "\n",
    "%matplotlib inline\n",
    "# make figures larger\n",
    "plt.rcParams['figure.dpi'] = 100"
   ]
  },
  {
   "cell_type": "markdown",
   "metadata": {},
   "source": [
    "# "
   ]
  },
  {
   "cell_type": "code",
   "execution_count": 4,
   "metadata": {},
   "outputs": [],
   "source": [
    "# Loading of canned data\n",
    "with open(\"england23March2020Data.json\", \"rt\") as INFILE:\n",
    "    initialEngland23March2020AgeGenderData=json.load(INFILE)\n",
    "with open(\"england04Jan2021Data.json\", \"rt\") as INFILE:\n",
    "    initialEngland04Jan2021AgeGenderData=json.load(INFILE)\n",
    "with open(\"england19Jul2021Data.json\", \"rt\") as INFILE:\n",
    "    initialEngland19Jul2021AgeGenderData=json.load(INFILE)\n"
   ]
  },
  {
   "cell_type": "code",
   "execution_count": 5,
   "metadata": {},
   "outputs": [],
   "source": [
    "def wrangle_data(AgeDistributionData):\n",
    "    \"\"\" Parameters: - data from json file or API call. Returns a dataframe. \"\"\"\n",
    "    dataDictionary=AgeDistributionData[0] # data['data'] is a list\n",
    "    maleCases=dataDictionary['males']\n",
    "    femaleCases=dataDictionary['females']\n",
    "    ageranges=[x['age'] for x in maleCases]\n",
    "\n",
    "    def min_age(agerange):\n",
    "        agerange=agerange.replace('+','') \n",
    "        start=agerange.split('_')[0]\n",
    "        return int(start)\n",
    "\n",
    "    ageranges.sort(key=min_age)\n",
    "\n",
    "    DataFrame=pd.DataFrame(index=ageranges, columns=['males','females', 'total'])\n",
    "\n",
    "    for entry in maleCases: # each entry is a dictionary\n",
    "        ageband=entry['age'] # our index position\n",
    "        DataFrame.loc[ageband, 'males']=entry['value']\n",
    "        for entry in femaleCases:\n",
    "            ageband=entry['age']\n",
    "            DataFrame.loc[ageband, 'females']=entry['value']\n",
    "        DataFrame['total']=DataFrame['males']+DataFrame['females']\n",
    "    return DataFrame\n",
    "\n",
    "# putting the wrangling code into a function allows you to call it again after refreshing the data through \n",
    "# the API. You should call the function directly on the JSON data when the dashboard starts, by including \n",
    "# the call in the cell as below:\n",
    "england23March2020AgeGenderDataFrame=wrangle_data(initialEngland23March2020AgeGenderData)\n",
    "england04Jan2021AgeGenderDataFrame=wrangle_data(initialEngland04Jan2021AgeGenderData) \n",
    "england19Jul2021AgeGenderDataFrame=wrangle_data(initialEngland19Jul2021AgeGenderData)  \n"
   ]
  },
  {
   "cell_type": "code",
   "execution_count": 6,
   "metadata": {},
   "outputs": [],
   "source": [
    "def access_api():\n",
    "    \"\"\" Accesses the PHE API. Returns raw data in the same format as data loaded from the \"canned\" JSON file. \"\"\"   \n",
    "    englandFilter = [\n",
    "        'areaType=nation',\n",
    "        'areaName=England'\n",
    "    ]\n",
    "\n",
    "    structure = {\n",
    "        \"date\":\"date\",\n",
    "        \"males\": \"maleCases\",\n",
    "        \"females\": \"femaleCases\"\n",
    "    }\n",
    "\n",
    "    englandAPI = Cov19API(filters=englandFilter, structure=structure)\n",
    "\n",
    "    updatedEnglandData=englandAPI.get_json()\n",
    "\n",
    "    updatedEngland23March2020Data = []\n",
    "    updatedEngland04Jan2021Data = []\n",
    "    updatedEngland19Jul2021Data = []\n",
    "\n",
    "    for i in range(1000):\n",
    "        if updatedEnglandData['data'][i]['date'] == \"2020-03-23\":\n",
    "            updatedEngland23March2020Data.append(updatedEnglandData['data'][i])\n",
    "        elif updatedEnglandData['data'][i]['date'] ==  \"2021-01-04\":\n",
    "            updatedEngland04Jan2021Data.append(updatedEnglandData['data'][i])\n",
    "        elif updatedEnglandData['data'][i]['date'] == \"2021-07-19\":\n",
    "            updatedEngland19Jul2021Data.append(updatedEnglandData['data'][i])\n",
    "\n",
    " \n",
    "    return [updatedEngland23March2020Data, updatedEngland04Jan2021Data, updatedEngland19Jul2021Data]\n",
    "\n",
    "  \n",
    "\n",
    "\n",
    "\n",
    "  "
   ]
  },
  {
   "cell_type": "code",
   "execution_count": 7,
   "metadata": {},
   "outputs": [
    {
     "data": {
      "application/vnd.jupyter.widget-view+json": {
       "model_id": "be0eb7e6c8b447f8a5e79c4eb794b9db",
       "version_major": 2,
       "version_minor": 0
      },
      "text/plain": [
       "Button(description='Refresh data', icon='download', style=ButtonStyle(), tooltip='Click to download current Pu…"
      ]
     },
     "metadata": {},
     "output_type": "display_data"
    }
   ],
   "source": [
    "def api_button_callback(button):\n",
    "    \"\"\" Button callback - it must take the button as its parameter (unused in this case).\n",
    "    Accesses API, wrangles data, updates global variable df used for plotting. \"\"\"\n",
    "    try:\n",
    "        englandDataInDateOrder = access_api()\n",
    "    except Exception:\n",
    "        print(\"Sorry, there was difficulty connecting to UK.GOVs Open Data API. Please try again later.\")\n",
    "    \n",
    "    global england23March2020AgeGenderDataFrame\n",
    "    global england04Jan2021AgeGenderDataFrame\n",
    "    global england19Jul2021AgeGenderDataFrame\n",
    "\n",
    "    england23March2020AgeGenderDataFrame=wrangle_data(englandDataInDateOrder[0])\n",
    "    england04Jan2021AgeGenderDataFrame=wrangle_data(englandDataInDateOrder[1])\n",
    "    england19Jul2021AgeGenderDataFrame=wrangle_data(englandDataInDateOrder[2])\n",
    "\n",
    "    apibutton.icon=\"check\"\n",
    "    apibutton.disabled=False\n",
    "\n",
    "\n",
    "apibutton=wdg.Button(\n",
    "    description='Refresh data',\n",
    "    disabled=False,\n",
    "    button_style='', # 'success', 'info', 'warning', 'danger' or ''\n",
    "    tooltip='Click to download current Public Health England data',\n",
    "    icon='download' # (FontAwesome names without the `fa-` prefix)\n",
    ")\n",
    "\n",
    " \n",
    "apibutton.on_click(api_button_callback) # the name of your function inside these brackets\n",
    "display(apibutton)\n",
    "\n"
   ]
  },
  {
   "cell_type": "markdown",
   "metadata": {},
   "source": [
    "## Graphs and Analysis"
   ]
  },
  {
   "cell_type": "code",
   "execution_count": 8,
   "metadata": {},
   "outputs": [
    {
     "data": {
      "application/vnd.jupyter.widget-view+json": {
       "model_id": "dcb21a09934147368ca29fe3bcb15c5b",
       "version_major": 2,
       "version_minor": 0
      },
      "text/plain": [
       "HBox(children=(Output(), VBox(children=(SelectMultiple(description='Gender', index=(0, 1), options=('males', '…"
      ]
     },
     "metadata": {},
     "output_type": "display_data"
    }
   ],
   "source": [
    "agecols=wdg.SelectMultiple(\n",
    "    options=['males', 'females', 'total'], # options available\n",
    "    value=['males', 'females'], # initial value\n",
    "    rows=3, # rows of the selection box\n",
    "    description='Gender',\n",
    "    disabled=False\n",
    ")\n",
    "\n",
    "date=wdg.RadioButtons(\n",
    "    options=['23rd March 2020',\n",
    "            '4th January 2021', \n",
    "            '19th July 2021'],\n",
    "    value='23rd March 2020',\n",
    "    description='Date:',\n",
    "    disabled=False\n",
    ")\n",
    "\n",
    "def age_graph(graphcolumns, datecolumns):\n",
    "    # our callback function.\n",
    "    ncols=len(graphcolumns)\n",
    "    if datecolumns == '23rd March 2020':\n",
    "        if ncols>0:\n",
    "            england23March2020AgeGenderDataFrame.plot(kind='bar', y=list(graphcolumns)) # graphcolumns is a tuple - we need a list\n",
    "            plt.show() # important - graphs won't update properly if this is missing\n",
    "        else:\n",
    "            # if the user has not selected any column, print a message instead\n",
    "            print(\"Click to select data for graph\")\n",
    "            print(\"(CTRL-Click to select more than one category)\")\n",
    "    if datecolumns == '4th January 2021':\n",
    "        if ncols>0:\n",
    "            england04Jan2021AgeGenderDataFrame.plot(kind='bar', y=list(graphcolumns)) # graphcolumns is a tuple - we need a list\n",
    "            plt.show() # important - graphs won't update properly if this is missing\n",
    "        else:\n",
    "            # if the user has not selected any column, print a message instead\n",
    "            print(\"Click to select data for graph\")\n",
    "            print(\"(CTRL-Click to select more than one category)\")\n",
    "    if datecolumns == '19th July 2021':\n",
    "        if ncols>0:\n",
    "            england19Jul2021AgeGenderDataFrame.plot(kind='bar', y=list(graphcolumns)) # graphcolumns is a tuple - we need a list\n",
    "            plt.show() # important - graphs won't update properly if this is missing\n",
    "        else:\n",
    "            # if the user has not selected any column, print a message instead\n",
    "            print(\"Click to select data for graph\")\n",
    "            print(\"(CTRL-Click to select more than one category)\")\n",
    "    \n",
    "# keep calling age_graph(graphcolumns=value_of_agecols); capture output in widget output    \n",
    "output=wdg.interactive_output(age_graph, {'graphcolumns': agecols, 'datecolumns': date})\n",
    "\n",
    "\n",
    "ctrls = wdg.VBox([agecols, date])\n",
    "form=wdg.HBox([output, ctrls])\n",
    "\n",
    "display(form)\n",
    "\n",
    "\n",
    "\n"
   ]
  },
  {
   "cell_type": "markdown",
   "metadata": {},
   "source": [
    "**Author and Copyright Notice** Covid-19 Dashboard (C) Nicolas Robinson, 2022 (ec221130@qmul.ac.uk - web). All rights reserved."
   ]
  }
 ],
 "metadata": {
  "kernelspec": {
   "display_name": "Python 3.9.6 64-bit",
   "language": "python",
   "name": "python3"
  },
  "language_info": {
   "codemirror_mode": {
    "name": "ipython",
    "version": 3
   },
   "file_extension": ".py",
   "mimetype": "text/x-python",
   "name": "python",
   "nbconvert_exporter": "python",
   "pygments_lexer": "ipython3",
   "version": "3.9.6"
  },
  "vscode": {
   "interpreter": {
    "hash": "31f2aee4e71d21fbe5cf8b01ff0e069b9275f58929596ceb00d14d90e3e16cd6"
   }
  }
 },
 "nbformat": 4,
 "nbformat_minor": 4
}
