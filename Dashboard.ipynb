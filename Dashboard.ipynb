{
 "cells": [
  {
   "cell_type": "markdown",
   "metadata": {},
   "source": [
    "[DIY Covid-19 Dashboard Kit](https://github.com/fsmeraldi/diy-covid19dash) (C) Fabrizio Smeraldi, 2020 ([f.smeraldi@qmul.ac.uk](mailto:f.smeraldi@qmul.ac.uk) - [web](http://www.eecs.qmul.ac.uk/~fabri/)). All rights reserved."
   ]
  },
  {
   "cell_type": "markdown",
   "metadata": {},
   "source": [
    "This is a template for your DIY Covid Dashboard, to which you can add the code you developed in the previous notebooks. The dashboard will be displayed using [voila](https://voila.readthedocs.io/en/stable/index.html), a Python dashboarding tool that converts notebooks to standalone dashboards. Contrary to the other libraries we have seen, the ```voila``` package must be installed using *pip* or *conda* but it does not need to be imported - it rather acts at the level of the notebook server. Package ```voila``` is already installed on the EECS JupyterHub as well as in the binder - to install it locally, follow the [instructions](https://voila.readthedocs.io/en/stable/install.html) online.\n",
    "\n",
    "Broadly speaking, Voila acts by **running all the cells in your notebook** when the dashboard is first loaded; it then hides all code cells and displays all markdown cells and any outputs, including widgets. However, the code is still there in the background and handles any interaction with the widgets. To view this dashboard template rendered in Voila click [here](https://mybinder.org/v2/gh/fsmeraldi/diy-covid19dash/main?urlpath=%2Fvoila%2Frender%2FDashboard.ipynb).\n",
    "\n",
    "You should include \"canned\" data in ```.json``` files along with your dashboard. When the dashboard starts, it should load that data (the code below will be hidden when the dashboard is rendered by Voila).\n",
    "\n",
    "The dashboard should contain the logic to wrangle the raw data into a ```DataFrame``` (or more than one, as required) that will be used for plotting. The wrangling code should be put into a function and called on the data from the JSON file (we'll need to call it again on any data downloaded from the API).  In this template, we just pretend we are wrangling ```rawdata``` and generate a dataframe with some random data\n",
    "\n",
    "Give your users an option to refresh the dataset - a \"refresh\" button will do. The button callback should\n",
    "* call the code that accesses the API and download some fresh raw data;\n",
    "* wrangle that data into a dataframe and update the corresponding (global) variable for plotting;\n",
    "* optionally: force a redraw of the graph and give the user some fredback.\n",
    "\n",
    "Once you get it to work, you may want to wrap your API call inside an exception handler, so that the user is informed, the \"canned\" data are not overwritten and nothing crashes if for any reason the server cannot be reached or data are not available.\n",
    "\n",
    "After you refresh the data, graphs will not update until the user interacts with a widget. You can trick ```iPywidgets``` into redrawing the graph by simulating interaction, as in the ```refresh_graph``` function we define in the Graph and Analysis section below.\n",
    "\n",
    "Clicking on the button below just generates some more random data and refreshes the graph. The button should read *Fetch Data*. If you see anything else, take a deep breath :)\n",
    "\n",
    "Include at least one graph with interactive controls, as well as some instructions for the user and/or comments on what the graph represents and how it should be explored (this example shows two random walks)"
   ]
  },
  {
   "cell_type": "markdown",
   "metadata": {},
   "source": [
    "# DIY Covid-19 Dashboard"
   ]
  },
  {
   "cell_type": "code",
   "execution_count": 77,
   "metadata": {},
   "outputs": [],
   "source": [
    "from IPython.display import clear_output\n",
    "import ipywidgets as wdg\n",
    "import pandas as pd\n",
    "import numpy as np\n",
    "import matplotlib.pyplot as plt\n",
    "import json\n",
    "from uk_covid19 import Cov19API\n",
    "\n",
    "%matplotlib inline\n",
    "# make figures larger\n",
    "plt.rcParams['figure.dpi'] = 100"
   ]
  },
  {
   "cell_type": "markdown",
   "metadata": {},
   "source": [
    "## Load initial data from disk"
   ]
  },
  {
   "cell_type": "code",
   "execution_count": 78,
   "metadata": {},
   "outputs": [],
   "source": [
    "# Loading of canned data\n",
    "with open(\"england23March2020Data.json\", \"rt\") as INFILE:\n",
    "    initialEngland23March2020AgeGenderData=json.load(INFILE)\n",
    "with open(\"england04Jan2021Data.json\", \"rt\") as INFILE:\n",
    "    initialEngland04Jan2021AgeGenderData=json.load(INFILE)\n",
    "with open(\"england19Jul2021Data.json\", \"rt\") as INFILE:\n",
    "    initialEngland19Jul2021AgeGenderData=json.load(INFILE)\n"
   ]
  },
  {
   "cell_type": "markdown",
   "metadata": {},
   "source": [
    "## Wrangle the data\n",
    "\n",
    "1) 23 March 2020 \"Johnson announced the \"biggest lockdown of society in British history\" on national television. Social distancing was made legally mandatory and furlough scheme announced.\n",
    "\n",
    "2) 4 January 2021 \"Johnson announced new national lockdown measures for England due to the spread of another variant, later known as Alpha, that he described as “both frustrating and alarming\"\n",
    "\n",
    "3) 19 July 2021 - England celebrated “Freedom Day” as the vast majority of Covid-19 restrictions were finally lifted"
   ]
  },
  {
   "cell_type": "code",
   "execution_count": 79,
   "metadata": {},
   "outputs": [],
   "source": [
    "def wrangle_data(AgeDistributionData):\n",
    "    \"\"\" Parameters: - data from json file or API call. Returns a dataframe. \"\"\"\n",
    "    dataDictionary=AgeDistributionData[0] # data['data'] is a list\n",
    "    maleCases=dataDictionary['males']\n",
    "    femaleCases=dataDictionary['females']\n",
    "    ageranges=[x['age'] for x in maleCases]\n",
    "\n",
    "    def min_age(agerange):\n",
    "        agerange=agerange.replace('+','') \n",
    "        start=agerange.split('_')[0]\n",
    "        return int(start)\n",
    "\n",
    "    ageranges.sort(key=min_age)\n",
    "\n",
    "    DataFrame=pd.DataFrame(index=ageranges, columns=['males','females', 'total'])\n",
    "\n",
    "    for entry in maleCases: # each entry is a dictionary\n",
    "        ageband=entry['age'] # our index position\n",
    "        DataFrame.loc[ageband, 'males']=entry['value']\n",
    "        for entry in femaleCases:\n",
    "            ageband=entry['age']\n",
    "            DataFrame.loc[ageband, 'females']=entry['value']\n",
    "        DataFrame['total']=DataFrame['males']+DataFrame['females']\n",
    "    return DataFrame\n",
    "\n",
    "# putting the wrangling code into a function allows you to call it again after refreshing the data through \n",
    "# the API. You should call the function directly on the JSON data when the dashboard starts, by including \n",
    "# the call in the cell as below:\n",
    "england23March2020AgeGenderDataFrame=wrangle_data(initialEngland23March2020AgeGenderData)\n",
    "england04Jan2021AgeGenderDataFrame=wrangle_data(initialEngland04Jan2021AgeGenderData) \n",
    "england19Jul2021AgeGenderDataFrame=wrangle_data(initialEngland19Jul2021AgeGenderData)  \n"
   ]
  },
  {
   "cell_type": "markdown",
   "metadata": {},
   "source": [
    "## Download current data"
   ]
  },
  {
   "cell_type": "code",
   "execution_count": 80,
   "metadata": {},
   "outputs": [],
   "source": [
    "def access_api():\n",
    "    \"\"\" Accesses the PHE API. Returns raw data in the same format as data loaded from the \"canned\" JSON file. \"\"\"   \n",
    "    englandFilter = [\n",
    "        'areaType=nation',\n",
    "        'areaName=England'\n",
    "    ]\n",
    "\n",
    "    structure = {\n",
    "        \"date\":\"date\",\n",
    "        \"males\": \"maleCases\",\n",
    "        \"females\": \"femaleCases\"\n",
    "    }\n",
    "\n",
    "    englandAPI = Cov19API(filters=englandFilter, structure=structure)\n",
    "\n",
    "    updatedEnglandData=englandAPI.get_json()\n",
    "\n",
    "    updatedEngland23March2020Data = []\n",
    "    updatedEngland04Jan2021Data = []\n",
    "    updatedEngland19Jul2021Data = []\n",
    "\n",
    "    for i in range(1000):\n",
    "        if updatedEnglandData['data'][i]['date'] == \"2020-03-23\":\n",
    "            updatedEngland23March2020Data.append(updatedEnglandData['data'][i])\n",
    "        elif updatedEnglandData['data'][i]['date'] ==  \"2021-01-04\":\n",
    "            updatedEngland04Jan2021Data.append(updatedEnglandData['data'][i])\n",
    "        elif updatedEnglandData['data'][i]['date'] == \"2021-07-19\":\n",
    "            updatedEngland19Jul2021Data.append(updatedEnglandData['data'][i])\n",
    "\n",
    " \n",
    "    return [updatedEngland23March2020Data, updatedEngland04Jan2021Data, updatedEngland19Jul2021Data]\n",
    "\n",
    "  \n",
    "\n",
    "\n",
    "\n",
    "  "
   ]
  },
  {
   "cell_type": "code",
   "execution_count": 81,
   "metadata": {},
   "outputs": [
    {
     "data": {
      "application/vnd.jupyter.widget-view+json": {
       "model_id": "9639ca00c9064c5798c7f92813c6bcc0",
       "version_major": 2,
       "version_minor": 0
      },
      "text/plain": [
       "Button(description='Refresh data', icon='download', style=ButtonStyle(), tooltip='Click to download current Pu…"
      ]
     },
     "metadata": {},
     "output_type": "display_data"
    }
   ],
   "source": [
    "def api_button_callback(button):\n",
    "    \"\"\" Button callback - it must take the button as its parameter (unused in this case).\n",
    "    Accesses API, wrangles data, updates global variable df used for plotting. \"\"\"\n",
    "    try:\n",
    "        englandDataInDateOrder = access_api()\n",
    "    except Exception:\n",
    "        print(\"Sorry, there was difficulty connecting to UK.GOVs Open Data API. Please try again later.\")\n",
    "    \n",
    "    global england23March2020AgeGenderDataFrame\n",
    "    global england04Jan2021AgeGenderDataFrame\n",
    "    global england19Jul2021AgeGenderDataFrame\n",
    "\n",
    "    england23March2020AgeGenderDataFrame=wrangle_data(englandDataInDateOrder[0])\n",
    "    england04Jan2021AgeGenderDataFrame=wrangle_data(englandDataInDateOrder[1])\n",
    "    england19Jul2021AgeGenderDataFrame=wrangle_data(englandDataInDateOrder[2])\n",
    "\n",
    "    apibutton.icon=\"check\"\n",
    "    apibutton.disabled=False\n",
    "\n",
    "\n",
    "apibutton=wdg.Button(\n",
    "    description='Refresh data',\n",
    "    disabled=False,\n",
    "    button_style='', # 'success', 'info', 'warning', 'danger' or ''\n",
    "    tooltip='Click to download current Public Health England data',\n",
    "    icon='download' # (FontAwesome names without the `fa-` prefix)\n",
    ")\n",
    "\n",
    " \n",
    "apibutton.on_click(api_button_callback) # the name of your function inside these brackets\n",
    "display(apibutton)\n",
    "\n"
   ]
  },
  {
   "cell_type": "markdown",
   "metadata": {},
   "source": [
    "## Graphs and Analysis"
   ]
  },
  {
   "cell_type": "code",
   "execution_count": 82,
   "metadata": {},
   "outputs": [
    {
     "data": {
      "application/vnd.jupyter.widget-view+json": {
       "model_id": "d4057218652f42e48bf005ff87af9dbc",
       "version_major": 2,
       "version_minor": 0
      },
      "text/plain": [
       "HBox(children=(Output(), VBox(children=(SelectMultiple(description='Gender', index=(0, 1), options=('males', '…"
      ]
     },
     "metadata": {},
     "output_type": "display_data"
    }
   ],
   "source": [
    "agecols=wdg.SelectMultiple(\n",
    "    options=['males', 'females', 'total'], # options available\n",
    "    value=['males', 'females'], # initial value\n",
    "    rows=3, # rows of the selection box\n",
    "    description='Gender',\n",
    "    disabled=False\n",
    ")\n",
    "\n",
    "date=wdg.RadioButtons(\n",
    "    options=['23rd March 2020',\n",
    "            '4th January 2021', \n",
    "            '19th July 2021'],\n",
    "    value='23rd March 2020',\n",
    "    description='Date:',\n",
    "    disabled=False\n",
    ")\n",
    "\n",
    "def age_graph(graphcolumns, datecolumns):\n",
    "    # our callback function.\n",
    "    ncols=len(graphcolumns)\n",
    "    if datecolumns == '23rd March 2020':\n",
    "        if ncols>0:\n",
    "            england23March2020AgeGenderDataFrame.plot(kind='bar', y=list(graphcolumns)) # graphcolumns is a tuple - we need a list\n",
    "            plt.show() # important - graphs won't update properly if this is missing\n",
    "        else:\n",
    "            # if the user has not selected any column, print a message instead\n",
    "            print(\"Click to select data for graph\")\n",
    "            print(\"(CTRL-Click to select more than one category)\")\n",
    "    if datecolumns == '4th January 2021':\n",
    "        if ncols>0:\n",
    "            england04Jan2021AgeGenderDataFrame.plot(kind='bar', y=list(graphcolumns)) # graphcolumns is a tuple - we need a list\n",
    "            plt.show() # important - graphs won't update properly if this is missing\n",
    "        else:\n",
    "            # if the user has not selected any column, print a message instead\n",
    "            print(\"Click to select data for graph\")\n",
    "            print(\"(CTRL-Click to select more than one category)\")\n",
    "    if datecolumns == '19th July 2021':\n",
    "        if ncols>0:\n",
    "            england19Jul2021AgeGenderDataFrame.plot(kind='bar', y=list(graphcolumns)) # graphcolumns is a tuple - we need a list\n",
    "            plt.show() # important - graphs won't update properly if this is missing\n",
    "        else:\n",
    "            # if the user has not selected any column, print a message instead\n",
    "            print(\"Click to select data for graph\")\n",
    "            print(\"(CTRL-Click to select more than one category)\")\n",
    "    \n",
    "# keep calling age_graph(graphcolumns=value_of_agecols); capture output in widget output    \n",
    "output=wdg.interactive_output(age_graph, {'graphcolumns': agecols, 'datecolumns': date})\n",
    "\n",
    "\n",
    "ctrls = wdg.VBox([agecols, date])\n",
    "form=wdg.HBox([output, ctrls])\n",
    "\n",
    "display(form)\n",
    "\n",
    "\n",
    "\n"
   ]
  },
  {
   "cell_type": "markdown",
   "metadata": {},
   "source": [
    "## Deploying the dashboard\n",
    "\n",
    "Once your code is ready and you are satisfied with the appearance of the graphs, replace all the text boxes above with the explanations you would like a dashboard user to see. The next step is deploying the dashboard online - there are several [options](https://voila.readthedocs.io/en/stable/deploy.html) for this, we suggest deploying as a [Binder](https://mybinder.org/). This is basically the same technique that has been used to package this tutorial and to deploy this template dashboard. The instructions may seem a bit involved, but the actual steps are surprisingly easy - we will be going through them together during a live session. You will need an account on [GitHub](https://github.com/) for this - if you don't have one already, now it's the time to create it. "
   ]
  },
  {
   "cell_type": "markdown",
   "metadata": {},
   "source": [
    "**Author and Copyright Notice** Remember if you deploy this dashboard as a Binder it will be publicly accessible. Take credit for your work! Also acknowledge the data source: *Based on UK Government [data](https://coronavirus.data.gov.uk/) published by [Public Health England](https://www.gov.uk/government/organisations/public-health-england).*"
   ]
  }
 ],
 "metadata": {
  "kernelspec": {
   "display_name": "Python 3.9.6 64-bit",
   "language": "python",
   "name": "python3"
  },
  "language_info": {
   "codemirror_mode": {
    "name": "ipython",
    "version": 3
   },
   "file_extension": ".py",
   "mimetype": "text/x-python",
   "name": "python",
   "nbconvert_exporter": "python",
   "pygments_lexer": "ipython3",
   "version": "3.9.6"
  },
  "vscode": {
   "interpreter": {
    "hash": "31f2aee4e71d21fbe5cf8b01ff0e069b9275f58929596ceb00d14d90e3e16cd6"
   }
  }
 },
 "nbformat": 4,
 "nbformat_minor": 4
}
