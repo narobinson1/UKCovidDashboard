{
 "cells": [
  {
   "cell_type": "markdown",
   "metadata": {},
   "source": [
    "# My COVID-19 Dashboard"
   ]
  },
  {
   "cell_type": "markdown",
   "metadata": {},
   "source": [
    "My COVID-19 Dashboard focuses on generating an interactive bar chart displaying the number of female and male cases associated with a distribution of age ranges. Extending this initial plot, I identified 3 key dates associated with various milestones of UK's COVID situation, and added interactivity in the bar chart to display the respective data up to these key dates. The 3 dates I chose to be of importance are as follows:\n",
    "\n",
    "1) 23 March 2020 - Johnson announced the \"biggest lockdown of society in British history\" on national television. Social distancing was made legally mandatory and furlough scheme announced.\n",
    "\n",
    "2) 4 January 2021 - Johnson announced new national lockdown measures for England due to the spread of another variant, later known as Alpha, that he described as “both frustrating and alarming\n",
    "\n",
    "3) 19 July 2021 - England celebrated “Freedom Day” as the vast majority of Covid-19 restrictions were finally lifted\n",
    "\n"
   ]
  },
  {
   "cell_type": "code",
   "execution_count": 2,
   "metadata": {},
   "outputs": [],
   "source": [
    "# Importing of important modules \n",
    "\n",
    "from IPython.display import clear_output\n",
    "import ipywidgets as wdg\n",
    "import pandas as pd\n",
    "import numpy as np\n",
    "import matplotlib.pyplot as plt\n",
    "import json\n",
    "from uk_covid19 import Cov19API\n",
    "\n",
    "# Matplotlib configuration \n",
    "%matplotlib inline\n",
    "\n",
    "# make figures larger\n",
    "plt.rcParams['figure.dpi'] = 100"
   ]
  },
  {
   "cell_type": "markdown",
   "metadata": {},
   "source": [
    "# "
   ]
  },
  {
   "cell_type": "code",
   "execution_count": 3,
   "metadata": {},
   "outputs": [],
   "source": [
    "# Loading of canned data from JSON date files\n",
    "# The variables are named with as much detail as possible for clear understanding\n",
    "# Each json file contains gender and age distribution data up until the stated date\n",
    "\n",
    "with open(\"england23March2020Data.json\", \"rt\") as INFILE:\n",
    "    initialEngland23March2020AgeGenderData=json.load(INFILE)\n",
    "with open(\"england04Jan2021Data.json\", \"rt\") as INFILE:\n",
    "    initialEngland04Jan2021AgeGenderData=json.load(INFILE)\n",
    "with open(\"england19Jul2021Data.json\", \"rt\") as INFILE:\n",
    "    initialEngland19Jul2021AgeGenderData=json.load(INFILE)"
   ]
  },
  {
   "cell_type": "code",
   "execution_count": 4,
   "metadata": {},
   "outputs": [],
   "source": [
    "def wrangle_data(AgeDistributionData):\n",
    "    \"\"\" Parameters: - Data imported from JSON file in above section. Returns a pandas dataframe. \"\"\"\n",
    "    dataDictionary=AgeDistributionData[0] # data['data'] is a list\n",
    "    maleCases=dataDictionary['males']\n",
    "    femaleCases=dataDictionary['females']\n",
    "    ageranges=[x['age'] for x in maleCases]\n",
    "\n",
    "    def min_age(agerange):\n",
    "        \"\"\" Parameters: List of ages. Returns the minimum age of each age band\"\"\"\n",
    "        agerange=agerange.replace('+','') \n",
    "        start=agerange.split('_')[0]\n",
    "        return int(start)\n",
    "\n",
    "    \n",
    "    ageranges.sort(key=min_age) # sorts the age ranges in order of ascending age\n",
    "\n",
    "    DataFrame=pd.DataFrame(index=ageranges, columns=['males','females', 'total']) # initialization of dataframe\n",
    "\n",
    "\n",
    "    for entry in maleCases: # each entry is a dictionary\n",
    "        ageband=entry['age'] # our index position\n",
    "        DataFrame.loc[ageband, 'males']=entry['value'] # enters data into male section of dataframe\n",
    "        for entry in femaleCases:\n",
    "            ageband=entry['age']\n",
    "            DataFrame.loc[ageband, 'females']=entry['value'] # enters data into male section of dataframe\n",
    "        DataFrame['total']=DataFrame['males']+DataFrame['females'] # enters data into total section of dataframe\n",
    "    return DataFrame\n",
    "\n",
    "# each dataset corresponding to a date is wrangled and assigned to an individual variable \n",
    "england23March2020AgeGenderDataFrame=wrangle_data(initialEngland23March2020AgeGenderData)\n",
    "england04Jan2021AgeGenderDataFrame=wrangle_data(initialEngland04Jan2021AgeGenderData) \n",
    "england19Jul2021AgeGenderDataFrame=wrangle_data(initialEngland19Jul2021AgeGenderData)  \n"
   ]
  },
  {
   "cell_type": "code",
   "execution_count": 5,
   "metadata": {},
   "outputs": [],
   "source": [
    "def access_api():\n",
    "    \"\"\" Accesses the PHE API. Returns raw data in the same format as data loaded from the \"canned\" JSON file. \"\"\"   \n",
    "    englandFilter = [\n",
    "        'areaType=nation',\n",
    "        'areaName=England'\n",
    "    ]\n",
    "    structure = {\n",
    "        \"date\":\"date\",\n",
    "        \"males\": \"maleCases\",\n",
    "        \"females\": \"femaleCases\"\n",
    "    }\n",
    "\n",
    "    englandAPI = Cov19API(filters=englandFilter, structure=structure)\n",
    "\n",
    "    updatedEnglandData=englandAPI.get_json()\n",
    "\n",
    "    updatedEngland23March2020Data = []\n",
    "    updatedEngland04Jan2021Data = []\n",
    "    updatedEngland19Jul2021Data = []\n",
    "\n",
    "    # The below for loop filters the entire date range for the individual milestone dates\n",
    "    for i in range(1000):  # range is 1000 as that is approximately the number of dates accessible by the API\n",
    "        if updatedEnglandData['data'][i]['date'] == \"2020-03-23\":\n",
    "            updatedEngland23March2020Data.append(updatedEnglandData['data'][i])\n",
    "        elif updatedEnglandData['data'][i]['date'] ==  \"2021-01-04\":\n",
    "            updatedEngland04Jan2021Data.append(updatedEnglandData['data'][i])\n",
    "        elif updatedEnglandData['data'][i]['date'] == \"2021-07-19\":\n",
    "            updatedEngland19Jul2021Data.append(updatedEnglandData['data'][i])\n",
    "\n",
    "    return [updatedEngland23March2020Data, updatedEngland04Jan2021Data, updatedEngland19Jul2021Data]\n",
    "\n",
    "  \n",
    "\n",
    "\n",
    "\n",
    "  "
   ]
  },
  {
   "cell_type": "code",
   "execution_count": 6,
   "metadata": {},
   "outputs": [],
   "source": [
    "def api_button_callback(button):\n",
    "    \"\"\" Parameters - A refresh data button. Accesses API, wrangles data, overrides global variable dataframes used for plotting. \"\"\"\n",
    "    try:\n",
    "        englandDataInDateOrder = access_api()\n",
    "    except Exception:\n",
    "        print(\"Sorry, there was difficulty connecting to UK.GOVs Open Data API. Please try again later.\")\n",
    "    \n",
    "    # the following variables are made global to overwrite the dataframes generated from canned data\n",
    "    global england23March2020AgeGenderDataFrame \n",
    "    global england04Jan2021AgeGenderDataFrame\n",
    "    global england19Jul2021AgeGenderDataFrame\n",
    "\n",
    "    england23March2020AgeGenderDataFrame=wrangle_data(englandDataInDateOrder[0])\n",
    "    england04Jan2021AgeGenderDataFrame=wrangle_data(englandDataInDateOrder[1])\n",
    "    england19Jul2021AgeGenderDataFrame=wrangle_data(englandDataInDateOrder[2])\n",
    "\n",
    "    apibutton.icon=\"check\"\n",
    "    apibutton.disabled=False\n",
    "\n",
    "\n",
    "apibutton=wdg.Button(\n",
    "    description='Refresh data',\n",
    "    disabled=False,\n",
    "    button_style='', # 'success', 'info', 'warning', 'danger' or ''\n",
    "    tooltip='Click to download current Public Health England data',\n",
    "    icon='download' # (FontAwesome names without the `fa-` prefix)\n",
    ")\n",
    "\n",
    "apibutton.on_click(api_button_callback) # when the \"apibutton\" is clicked, api_button_callback function called\n",
    "\n",
    "\n"
   ]
  },
  {
   "cell_type": "markdown",
   "metadata": {},
   "source": [
    "## Final outcome "
   ]
  },
  {
   "cell_type": "markdown",
   "metadata": {},
   "source": [
    "The following graph illustrates the relationship plots the number of male cases and female cases within certain age ranges. This graph has multiple widgets, positioned on the right side of the graph. The topmost widget, \"Gender\", illustrates only the cases associated with the respective gender. The lower widget, \"Date\", illustrates the cumulative data up to that given date."
   ]
  },
  {
   "cell_type": "code",
   "execution_count": 16,
   "metadata": {},
   "outputs": [
    {
     "data": {
      "application/vnd.jupyter.widget-view+json": {
       "model_id": "e7698f87236a40b6b4e2f4c167801d47",
       "version_major": 2,
       "version_minor": 0
      },
      "text/plain": [
       "HBox(children=(Output(), VBox(children=(SelectMultiple(description='Gender', index=(0, 1), options=('males', '…"
      ]
     },
     "metadata": {},
     "output_type": "display_data"
    }
   ],
   "source": [
    "agecols=wdg.SelectMultiple(\n",
    "    options=['males', 'females', 'total'], # options available\n",
    "    value=['males', 'females'], # initial values selected\n",
    "    rows=3, # rows of the selection box\n",
    "    description='Gender',\n",
    "    disabled=False\n",
    ")\n",
    "\n",
    "date=wdg.RadioButtons(\n",
    "    options=['23rd March 2020',\n",
    "            '4th January 2021', \n",
    "            '19th July 2021'], # available options\n",
    "    value='23rd March 2020', # initial value selected\n",
    "    description='Date:',\n",
    "    disabled=False\n",
    ")\n",
    "\n",
    "def age_graph(graphcolumns, datecolumns):\n",
    "    \"\"\" Parameters - widgets defined above. Function - Chooses the data used to plot the graph depending on the widgets toggled\"\"\"\n",
    "    \n",
    "    ncols=len(graphcolumns)\n",
    "    if datecolumns == '23rd March 2020':\n",
    "        if ncols>0:\n",
    "            england23March2020AgeGenderDataFrame.plot(kind='bar', y=list(graphcolumns)) # graphcolumns is a tuple - we need a list\n",
    "            plt.title(\"A comparison of confirmed covid cases between males, females, and different age ranges.\", size = 16, pad=30)\n",
    "            plt.ylabel(\"Number of confirmed Covid Cases\", size = 14)\n",
    "            plt.xlabel(\"Age ranges\", size = 14)\n",
    "            plt.show()\n",
    "        else:\n",
    "            # if the user has not selected any column, print a message instead\n",
    "            print(\"Click to select data for graph\")\n",
    "            print(\"(CTRL-Click to select more than one category)\")\n",
    "    if datecolumns == '4th January 2021':\n",
    "        if ncols>0:\n",
    "            england04Jan2021AgeGenderDataFrame.plot(kind='bar', y=list(graphcolumns)) # graphcolumns is a tuple - we need a list\n",
    "            plt.title(\"A comparison of confirmed covid cases between males, females, and different age ranges.\")\n",
    "            plt.ylabel(\"Number of confirmed Covid Cases\")\n",
    "            plt.xlabel(\"Age ranges\")\n",
    "            plt.show() \n",
    "         \n",
    "        else:\n",
    "            # if the user has not selected any column, print a message instead\n",
    "            print(\"Click to select data for graph\")\n",
    "            print(\"(CTRL-Click to select more than one category)\")\n",
    "    if datecolumns == '19th July 2021':\n",
    "        if ncols>0:\n",
    "            england19Jul2021AgeGenderDataFrame.plot(kind='bar', y=list(graphcolumns)) # graphcolumns is a tuple - we need a list\n",
    "            plt.title(\"A comparison of confirmed covid cases between males, females, and different age ranges.\")\n",
    "            plt.ylabel(\"Number of confirmed Covid Cases\")\n",
    "            plt.xlabel(\"Age ranges\")\n",
    "            plt.show() \n",
    "        else:\n",
    "            # if the user has not selected any column, print a message instead\n",
    "            print(\"Click to select data for graph\")\n",
    "            print(\"(CTRL-Click to select more than one category)\")\n",
    "    \n",
    "output=wdg.interactive_output(age_graph, {'graphcolumns': agecols, 'datecolumns': date})\n",
    "\n",
    "ctrls = wdg.VBox([agecols, date])\n",
    "form=wdg.HBox([output, ctrls])\n",
    "\n",
    "display(form)\n",
    "\n",
    "\n",
    "\n",
    "\n"
   ]
  },
  {
   "cell_type": "markdown",
   "metadata": {},
   "source": [
    "# Instructions on how to interact with graph\n",
    "\n",
    "There are 3 options for the gender widget: \"males\", \"females\", \"total\". The \"male\" option will plot data for male confirmed covid cases. The \"female\" option will plot data for female confirmed covid cases. The \"total\" option will plot data for the total cases associated with that age range irrespective of gender. Another feature of this widget, is that multiple options can be selected simultaneously. On selection of more than 1 option, the selected options will be simultaneously displayed on the graph, allowing you to draw clear comparison between data for different genders. There are 3 options for selecting the date widget. On selecting the option 23rd March 2020 the total male cases, total female cases, and total overall cases up until that date are used as data for plotting the graphs. For 4th January 2021, the data is extending to include additional cases between 23rd March 2020 and the 4th January 2021. Same for 19th July 2021. "
   ]
  },
  {
   "cell_type": "markdown",
   "metadata": {},
   "source": [
    "# Refreshing the data"
   ]
  },
  {
   "cell_type": "markdown",
   "metadata": {},
   "source": [
    "The data immedietly loaded is \"canned\" data stored in an offline JSON file as a secure form of storage. If you would like up to date information, press the \"Refresh data\" button below. (Note: The graph will not refresh until a widget is interacted with)"
   ]
  },
  {
   "cell_type": "code",
   "execution_count": 17,
   "metadata": {},
   "outputs": [
    {
     "data": {
      "application/vnd.jupyter.widget-view+json": {
       "model_id": "be0eb7e6c8b447f8a5e79c4eb794b9db",
       "version_major": 2,
       "version_minor": 0
      },
      "text/plain": [
       "Button(description='Refresh data', icon='check', style=ButtonStyle(), tooltip='Click to download current Publi…"
      ]
     },
     "metadata": {},
     "output_type": "display_data"
    }
   ],
   "source": [
    "display(apibutton)"
   ]
  },
  {
   "cell_type": "markdown",
   "metadata": {},
   "source": [
    "# Brief Conclusions"
   ]
  },
  {
   "cell_type": "markdown",
   "metadata": {},
   "source": [
    "Several brief conclusions can be drawn from playing with the graph. Firstly, there is a significant difference in the age distribution for the different dates. It can be seen that data up until the 23rd March 2020, shows a left tailed pattern with more cases lying in higher age ranges taken precedence over lower age ranges. Through time, this pattern is reversed and lower age ranges take majority of cases resulting in a right tailed distribution. "
   ]
  },
  {
   "cell_type": "markdown",
   "metadata": {},
   "source": [
    "**Author and Copyright Notice** Covid-19 Dashboard (C) Nicolas Robinson, 2022 (ec221130@qmul.ac.uk - web). All rights reserved."
   ]
  }
 ],
 "metadata": {
  "kernelspec": {
   "display_name": "Python 3.9.6 64-bit",
   "language": "python",
   "name": "python3"
  },
  "language_info": {
   "codemirror_mode": {
    "name": "ipython",
    "version": 3
   },
   "file_extension": ".py",
   "mimetype": "text/x-python",
   "name": "python",
   "nbconvert_exporter": "python",
   "pygments_lexer": "ipython3",
   "version": "3.9.6"
  },
  "vscode": {
   "interpreter": {
    "hash": "31f2aee4e71d21fbe5cf8b01ff0e069b9275f58929596ceb00d14d90e3e16cd6"
   }
  }
 },
 "nbformat": 4,
 "nbformat_minor": 4
}
